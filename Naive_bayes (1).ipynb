{
  "nbformat": 4,
  "nbformat_minor": 0,
  "metadata": {
    "colab": {
      "name": "Naive bayes.ipynb",
      "provenance": []
    },
    "kernelspec": {
      "name": "python3",
      "display_name": "Python 3"
    },
    "language_info": {
      "name": "python"
    }
  },
  "cells": [
    {
      "cell_type": "code",
      "metadata": {
        "id": "XNnzGzR5wYOe"
      },
      "source": [
        "import numpy as np\n",
        "import matplotlib.pyplot as plt\n",
        "import pandas as pd\n",
        "import sklearn"
      ],
      "execution_count": null,
      "outputs": []
    },
    {
      "cell_type": "code",
      "metadata": {
        "id": "uj1VC9qKwdMZ"
      },
      "source": [
        "dataset = pd.read_csv('Social_Network_Ads.csv')\n",
        "X = dataset.iloc[:, [1, 2, 3]].values\n",
        "y = dataset.iloc[:, -1].values\n"
      ],
      "execution_count": null,
      "outputs": []
    },
    {
      "cell_type": "code",
      "metadata": {
        "id": "wPR3yfBGwd5Y"
      },
      "source": [
        "from sklearn.preprocessing import LabelEncoder\n",
        "le = LabelEncoder()\n",
        "X[:,0] = le.fit_transform(X[:,0])"
      ],
      "execution_count": null,
      "outputs": []
    },
    {
      "cell_type": "code",
      "metadata": {
        "id": "GYcmI8EAwgo9"
      },
      "source": [
        "from sklearn.model_selection import train_test_split\n",
        "X_train, X_test, y_train, y_test = train_test_split(X, y, test_size = 0.20, random_state = 0)\n"
      ],
      "execution_count": null,
      "outputs": []
    },
    {
      "cell_type": "code",
      "metadata": {
        "id": "0zHstkdIwjx3"
      },
      "source": [
        "from sklearn.preprocessing import StandardScaler\n",
        "sc = StandardScaler()\n",
        "X_train = sc.fit_transform(X_train)\n",
        "X_test = sc.transform(X_test)"
      ],
      "execution_count": null,
      "outputs": []
    },
    {
      "cell_type": "code",
      "metadata": {
        "colab": {
          "base_uri": "https://localhost:8080/"
        },
        "id": "Lb3w_Eiiwl7w",
        "outputId": "2e0b29d1-8426-498d-9dcb-c03b17a415ff"
      },
      "source": [
        "from sklearn.naive_bayes import GaussianNB\n",
        "classifier = GaussianNB()\n",
        "classifier.fit(X_train, y_train)\n"
      ],
      "execution_count": null,
      "outputs": [
        {
          "output_type": "execute_result",
          "data": {
            "text/plain": [
              "GaussianNB(priors=None, var_smoothing=1e-09)"
            ]
          },
          "metadata": {},
          "execution_count": 30
        }
      ]
    },
    {
      "cell_type": "code",
      "metadata": {
        "id": "FKhQwVB8wo20"
      },
      "source": [
        "y_pred  =  classifier.predict(X_test)\n"
      ],
      "execution_count": null,
      "outputs": []
    },
    {
      "cell_type": "code",
      "metadata": {
        "colab": {
          "base_uri": "https://localhost:8080/"
        },
        "id": "VdePthJ6wrkH",
        "outputId": "05ea1f32-b93a-4eb6-bcc8-9c386194346f"
      },
      "source": [
        " y_pred  \n"
      ],
      "execution_count": null,
      "outputs": [
        {
          "output_type": "execute_result",
          "data": {
            "text/plain": [
              "array([0, 0, 0, 0, 0, 0, 0, 1, 0, 0, 0, 0, 0, 0, 0, 1, 0, 0, 1, 0, 0, 1,\n",
              "       0, 1, 0, 1, 0, 0, 0, 0, 0, 0, 1, 0, 0, 0, 0, 0, 0, 1, 0, 0, 0, 0,\n",
              "       1, 0, 0, 1, 0, 1, 1, 0, 0, 1, 1, 0, 0, 0, 1, 0, 0, 1, 0, 0, 0, 1,\n",
              "       0, 0, 0, 0, 1, 0, 0, 0, 0, 0, 0, 0, 1, 1])"
            ]
          },
          "metadata": {},
          "execution_count": 32
        }
      ]
    },
    {
      "cell_type": "code",
      "metadata": {
        "colab": {
          "base_uri": "https://localhost:8080/"
        },
        "id": "yIyUynGIwuE1",
        "outputId": "63a789c3-7886-473f-ab52-df585a8a16e9"
      },
      "source": [
        "y_test\n"
      ],
      "execution_count": null,
      "outputs": [
        {
          "output_type": "execute_result",
          "data": {
            "text/plain": [
              "array([0, 0, 0, 0, 0, 0, 0, 1, 0, 0, 0, 0, 0, 0, 0, 0, 0, 0, 1, 0, 0, 1,\n",
              "       0, 1, 0, 1, 0, 0, 0, 0, 0, 1, 1, 0, 0, 0, 0, 0, 0, 1, 0, 0, 0, 0,\n",
              "       1, 0, 0, 1, 0, 1, 1, 0, 0, 0, 1, 1, 0, 0, 1, 0, 0, 1, 0, 1, 0, 1,\n",
              "       0, 0, 0, 0, 1, 0, 0, 1, 0, 0, 0, 0, 1, 1])"
            ]
          },
          "metadata": {},
          "execution_count": 33
        }
      ]
    },
    {
      "cell_type": "code",
      "metadata": {
        "id": "hCmAT0MZwwaz"
      },
      "source": [
        "from sklearn.metrics import confusion_matrix,accuracy_score\n",
        "cm = confusion_matrix(y_test, y_pred)\n",
        "ac = accuracy_score(y_test,y_pred)"
      ],
      "execution_count": null,
      "outputs": []
    },
    {
      "cell_type": "code",
      "metadata": {
        "colab": {
          "base_uri": "https://localhost:8080/"
        },
        "id": "VQwxIE8nwy5H",
        "outputId": "11cdb07a-e772-45db-969b-413853ec3965"
      },
      "source": [
        "print(ac)"
      ],
      "execution_count": null,
      "outputs": [
        {
          "output_type": "stream",
          "name": "stdout",
          "text": [
            "0.925\n"
          ]
        }
      ]
    },
    {
      "cell_type": "code",
      "metadata": {
        "id": "whgb3wWb2ZjC"
      },
      "source": [
        "import numpy as np\n",
        "import pandas as pd\n",
        "\n",
        "data=[['A','S',0],\n",
        "      ['A','M',0],\n",
        "      ['A','M',1],\n",
        "      ['A','S',1],\n",
        "      ['A','S',0],\n",
        "      ['B','S',0],\n",
        "      ['B','M',0],\n",
        "      ['B','M',1],\n",
        "      ['B','L',1],\n",
        "      ['B','L',1],\n",
        "      ['C','L',1],\n",
        "      ['C','M',1],\n",
        "      ['C','M',1],\n",
        "      ['C','L',1],\n",
        "      ['C','L',0]\n",
        "      ]\n",
        "data = pd.DataFrame(data,columns=['x1','x2','y'])"
      ],
      "execution_count": null,
      "outputs": []
    },
    {
      "cell_type": "code",
      "metadata": {
        "id": "9r3WaX911bbu"
      },
      "source": [
        "def Naive_Bayes(data):\n",
        "    # Step 1: Calculate Prior Probability\n",
        "    y_unique = data.y.unique()\n",
        "    prior_probability = np.zeros(len(data.y.unique()))\n",
        "    for i in range(0,len(y_unique)):\n",
        "        prior_probability[i]=sum(data['y']==y_unique[i])/len(data['y'])\n",
        "    \n",
        "    # Step 2: Calculate Conditional Probability\n",
        "    conditional_probability = {}\n",
        "    for i in range(1,data.shape[1]):\n",
        "        x_unique = list(set(data['x'+str(i)]))\n",
        "        x_conditional_probability = np.zeros((len(data.y.unique()),len(set(data['x'+str(i)]))))\n",
        "        for j in range(0,len(y_unique)):\n",
        "            for k in range(0,len(x_unique)):\n",
        "                x_conditional_probability[j,k]=data.loc[(data['x'+str(i)]==x_unique[k])&(data['y']==y_unique[j]),].shape[0]/sum(data['y']==y_unique[j])\n",
        "    \n",
        "        x_conditional_probability = pd.DataFrame(x_conditional_probability,columns=x_unique,index=y_unique)   \n",
        "        conditional_probability['x'+str(i)] = x_conditional_probability       \n",
        "    \n",
        "    return prior_probability,conditional_probability\n",
        "    \n",
        " \n",
        "prior_probability,conditional_probability = Naive_Bayes(data)"
      ],
      "execution_count": null,
      "outputs": []
    },
    {
      "cell_type": "code",
      "metadata": {
        "colab": {
          "base_uri": "https://localhost:8080/"
        },
        "id": "vW_nmesB2qFR",
        "outputId": "819044bd-9c1b-4f0b-f793-23458d3ab078"
      },
      "source": [
        "def prediction(X):\n",
        "    x1=X[0];x2=X[1]\n",
        "    p0=prior_probability[0]*conditional_probability['x1'][x1][0]*conditional_probability['x2'][x2][0]\n",
        "    p1=prior_probability[1]*conditional_probability['x1'][x1][1]*conditional_probability['x2'][x2][1]\n",
        "    \n",
        "    if p0>p1:\n",
        "        y_pred=0\n",
        "    else:\n",
        "        y_pred=1\n",
        "    \n",
        "    return y_pred\n",
        "    \n",
        "prediction(['A','L'])"
      ],
      "execution_count": null,
      "outputs": [
        {
          "output_type": "execute_result",
          "data": {
            "text/plain": [
              "1"
            ]
          },
          "metadata": {},
          "execution_count": 11
        }
      ]
    }
  ]
}